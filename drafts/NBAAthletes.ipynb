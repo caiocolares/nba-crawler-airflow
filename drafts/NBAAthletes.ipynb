{
  "nbformat": 4,
  "nbformat_minor": 0,
  "metadata": {
    "colab": {
      "provenance": []
    },
    "kernelspec": {
      "name": "python3",
      "display_name": "Python 3"
    },
    "language_info": {
      "name": "python"
    }
  },
  "cells": [
    {
      "cell_type": "code",
      "execution_count": null,
      "metadata": {
        "id": "R-cgFI20LPAH"
      },
      "outputs": [],
      "source": [
        "import requests\n",
        "import csv\n",
        "import json\n",
        "\n",
        "url = \"https://site.web.api.espn.com/apis/common/v3/sports/basketball/nba/statistics/byathlete?region=us&lang=en&contentorigin=espn&isqualified=true&page={page}&limit=50&sort=general.avgMinutes%3Adesc&season={year}&seasontype=2\""
      ]
    },
    {
      "cell_type": "code",
      "source": [
        "resp = requests.get(url.format(year=2023, page=1))\n",
        "data = resp.json()"
      ],
      "metadata": {
        "id": "QiKx0lKoLSaQ"
      },
      "execution_count": null,
      "outputs": []
    },
    {
      "cell_type": "code",
      "source": [
        "with open('./meta.json', 'w') as f:\n",
        "  f.write(json.dumps(data['categories']))"
      ],
      "metadata": {
        "id": "xm_mTxzPO1sP"
      },
      "execution_count": null,
      "outputs": []
    },
    {
      "cell_type": "code",
      "source": [
        "header = [\"year\",\"name\", \"playerId\", \"playerSlug\", \"position\", \"team\", \"status\"]\n",
        "header.extend(next(x['names'] for x in data['categories'] if x['name']=='general'))\n",
        "header.extend(next(x['names'] for x in data['categories'] if x['name']=='offensive'))\n",
        "header.extend(next(x['names'] for x in data['categories'] if x['name']=='defensive'))"
      ],
      "metadata": {
        "id": "CZvVdJoCLXbw"
      },
      "execution_count": null,
      "outputs": []
    },
    {
      "cell_type": "code",
      "source": [
        "header"
      ],
      "metadata": {
        "colab": {
          "base_uri": "https://localhost:8080/"
        },
        "id": "CxsrJMgOFEHi",
        "outputId": "e2f03251-a32d-4d0e-f761-ceeda8f2e9eb"
      },
      "execution_count": null,
      "outputs": [
        {
          "output_type": "execute_result",
          "data": {
            "text/plain": [
              "['year',\n",
              " 'name',\n",
              " 'playerId',\n",
              " 'playerSlug',\n",
              " 'position',\n",
              " 'team',\n",
              " 'status',\n",
              " 'gamesPlayed',\n",
              " 'avgMinutes',\n",
              " 'avgFouls',\n",
              " 'flagrantFouls',\n",
              " 'technicalFouls',\n",
              " 'ejections',\n",
              " 'doubleDouble',\n",
              " 'tripleDouble',\n",
              " 'minutes',\n",
              " 'rebounds',\n",
              " 'fouls',\n",
              " 'avgRebounds',\n",
              " 'avgPoints',\n",
              " 'avgFieldGoalsMade',\n",
              " 'avgFieldGoalsAttempted',\n",
              " 'fieldGoalPct',\n",
              " 'avgThreePointFieldGoalsMade',\n",
              " 'avgThreePointFieldGoalsAttempted',\n",
              " 'threePointFieldGoalPct',\n",
              " 'avgFreeThrowsMade',\n",
              " 'avgFreeThrowsAttempted',\n",
              " 'freeThrowPct',\n",
              " 'avgAssists',\n",
              " 'avgTurnovers',\n",
              " 'points',\n",
              " 'fieldGoalsMade',\n",
              " 'fieldGoalsAttempted',\n",
              " 'threePointFieldGoalsMade',\n",
              " 'threePointFieldGoalsAttempted',\n",
              " 'freeThrowsMade',\n",
              " 'freeThrowsAttempted',\n",
              " 'assists',\n",
              " 'turnovers',\n",
              " 'avgSteals',\n",
              " 'avgBlocks',\n",
              " 'steals',\n",
              " 'blocks']"
            ]
          },
          "metadata": {},
          "execution_count": 5
        }
      ]
    },
    {
      "cell_type": "code",
      "source": [
        "def request_data(year, page):\n",
        "  resp = requests.get(url.format(year=year, page=page))\n",
        "  return resp.json()"
      ],
      "metadata": {
        "id": "OoD3FM-LwLyE"
      },
      "execution_count": null,
      "outputs": []
    },
    {
      "cell_type": "code",
      "source": [
        "def get_lines(data: dict, year: int):\n",
        "  lines = []\n",
        "  for athlete in data['athletes']:\n",
        "    line = [year,\n",
        "            athlete['athlete']['displayName'],\n",
        "            athlete['athlete']['id'],\n",
        "            athlete['athlete']['slug'],\n",
        "            athlete['athlete']['position']['abbreviation'],\n",
        "            athlete['athlete']['teamShortName'],\n",
        "            athlete['athlete']['status']['type'] ]\n",
        "    #alterado para garantir ordem de dados\n",
        "    #for c in a['categories']:\n",
        "    #  line.extend([x for x in c['totals']])\n",
        "    line.extend(next(filter(lambda x: x['name'] == 'general',   athlete['categories']))['values'])\n",
        "    line.extend(next(filter(lambda x: x['name'] == 'offensive', athlete['categories']))['values'])\n",
        "    line.extend(next(filter(lambda x: x['name'] == 'defensive', athlete['categories']))['values'])\n",
        "    lines.append(line)\n",
        "  return lines"
      ],
      "metadata": {
        "id": "QdGY0lqwbhLT"
      },
      "execution_count": null,
      "outputs": []
    },
    {
      "cell_type": "code",
      "source": [
        "def process_season(from_year: int, to_year: int)-> list:\n",
        "  page = 1\n",
        "  year = from_year\n",
        "  year_target = to_year\n",
        "\n",
        "  content = []\n",
        "\n",
        "  while year <= year_target:\n",
        "    page = 1\n",
        "    data = request_data(year, page)\n",
        "    while page <= data['pagination']['pages']:\n",
        "      data = request_data(year, page)\n",
        "      lines = get_lines(data, year)\n",
        "      content.extend(lines)\n",
        "      page += 1\n",
        "\n",
        "    year += 1\n",
        "  return content"
      ],
      "metadata": {
        "id": "gtI-oWzQviRP"
      },
      "execution_count": null,
      "outputs": []
    },
    {
      "cell_type": "code",
      "source": [
        "%%time\n",
        "linhas = process_season(1999, 2023)\n"
      ],
      "metadata": {
        "id": "l6PB318IxXUK",
        "colab": {
          "base_uri": "https://localhost:8080/"
        },
        "outputId": "0785c212-0129-4374-d32b-0221db56fac6"
      },
      "execution_count": null,
      "outputs": [
        {
          "output_type": "stream",
          "name": "stdout",
          "text": [
            "CPU times: user 6.07 s, sys: 327 ms, total: 6.4 s\n",
            "Wall time: 2min 20s\n"
          ]
        }
      ]
    },
    {
      "cell_type": "code",
      "source": [
        "def write_csv(header: list, content: list, file_name: str = 'athletes'):\n",
        "  with open(\"./{file_name}.csv\".format(file_name=file_name), 'w') as f:\n",
        "    writer = csv.writer(f)\n",
        "    writer.writerow(header)\n",
        "    writer.writerows(content)\n"
      ],
      "metadata": {
        "id": "i4s_vnVDupZ4"
      },
      "execution_count": null,
      "outputs": []
    },
    {
      "cell_type": "code",
      "source": [
        "write_csv(header, linhas, \"nba_athletes\")"
      ],
      "metadata": {
        "id": "PKgXYC3OuhkM"
      },
      "execution_count": null,
      "outputs": []
    },
    {
      "cell_type": "code",
      "source": [
        "import pandas as pd\n",
        "import numpy as np"
      ],
      "metadata": {
        "id": "tQGFFh6QUHhh"
      },
      "execution_count": null,
      "outputs": []
    },
    {
      "cell_type": "code",
      "source": [
        "df = pd.read_csv('./nba_athletes.csv')\n",
        "df[df['playerId']==3202].head()"
      ],
      "metadata": {
        "colab": {
          "base_uri": "https://localhost:8080/",
          "height": 386
        },
        "id": "_Ofcpqy8UJrn",
        "outputId": "c222706a-3539-4dec-e2a2-96b24c536a45"
      },
      "execution_count": null,
      "outputs": [
        {
          "output_type": "execute_result",
          "data": {
            "text/plain": [
              "      year          name  playerId    playerSlug position team  status  \\\n",
              "3612  2008  Kevin Durant      3202  kevin-durant       PF  SEA  active   \n",
              "4006  2009  Kevin Durant      3202  kevin-durant       PF  OKC  active   \n",
              "4450  2010  Kevin Durant      3202  kevin-durant       PF  OKC  active   \n",
              "4892  2011  Kevin Durant      3202  kevin-durant       PF  OKC  active   \n",
              "5342  2012  Kevin Durant      3202  kevin-durant       PF  OKC  active   \n",
              "\n",
              "      gamesPlayed  avgMinutes  avgFouls  ...  threePointFieldGoalsMade  \\\n",
              "3612         80.0   34.600000  1.525000  ...                      59.0   \n",
              "4006         74.0   38.986490  1.810811  ...                      97.0   \n",
              "4450         82.0   39.500000  2.085366  ...                     128.0   \n",
              "4892         78.0   38.948720  2.038461  ...                     145.0   \n",
              "5342         66.0   38.575756  2.015151  ...                     133.0   \n",
              "\n",
              "      threePointFieldGoalsAttempted  freeThrowsMade  freeThrowsAttempted  \\\n",
              "3612                          205.0           391.0                448.0   \n",
              "4006                          230.0           452.0                524.0   \n",
              "4450                          351.0           756.0                840.0   \n",
              "4892                          414.0           594.0                675.0   \n",
              "5342                          344.0           431.0                501.0   \n",
              "\n",
              "      assists  turnovers  avgSteals  avgBlocks  steals  blocks  \n",
              "3612    192.0      232.0   0.975000   0.937500    78.0    75.0  \n",
              "4006    205.0      225.0   1.297297   0.716216    96.0    53.0  \n",
              "4450    231.0      271.0   1.365854   1.024390   112.0    84.0  \n",
              "4892    214.0      218.0   1.128205   0.974359    88.0    76.0  \n",
              "5342    231.0      248.0   1.333333   1.166667    88.0    77.0  \n",
              "\n",
              "[5 rows x 44 columns]"
            ],
            "text/html": [
              "\n",
              "  <div id=\"df-51abe327-95ca-4307-b371-5fdaf04c1efb\">\n",
              "    <div class=\"colab-df-container\">\n",
              "      <div>\n",
              "<style scoped>\n",
              "    .dataframe tbody tr th:only-of-type {\n",
              "        vertical-align: middle;\n",
              "    }\n",
              "\n",
              "    .dataframe tbody tr th {\n",
              "        vertical-align: top;\n",
              "    }\n",
              "\n",
              "    .dataframe thead th {\n",
              "        text-align: right;\n",
              "    }\n",
              "</style>\n",
              "<table border=\"1\" class=\"dataframe\">\n",
              "  <thead>\n",
              "    <tr style=\"text-align: right;\">\n",
              "      <th></th>\n",
              "      <th>year</th>\n",
              "      <th>name</th>\n",
              "      <th>playerId</th>\n",
              "      <th>playerSlug</th>\n",
              "      <th>position</th>\n",
              "      <th>team</th>\n",
              "      <th>status</th>\n",
              "      <th>gamesPlayed</th>\n",
              "      <th>avgMinutes</th>\n",
              "      <th>avgFouls</th>\n",
              "      <th>...</th>\n",
              "      <th>threePointFieldGoalsMade</th>\n",
              "      <th>threePointFieldGoalsAttempted</th>\n",
              "      <th>freeThrowsMade</th>\n",
              "      <th>freeThrowsAttempted</th>\n",
              "      <th>assists</th>\n",
              "      <th>turnovers</th>\n",
              "      <th>avgSteals</th>\n",
              "      <th>avgBlocks</th>\n",
              "      <th>steals</th>\n",
              "      <th>blocks</th>\n",
              "    </tr>\n",
              "  </thead>\n",
              "  <tbody>\n",
              "    <tr>\n",
              "      <th>3612</th>\n",
              "      <td>2008</td>\n",
              "      <td>Kevin Durant</td>\n",
              "      <td>3202</td>\n",
              "      <td>kevin-durant</td>\n",
              "      <td>PF</td>\n",
              "      <td>SEA</td>\n",
              "      <td>active</td>\n",
              "      <td>80.0</td>\n",
              "      <td>34.600000</td>\n",
              "      <td>1.525000</td>\n",
              "      <td>...</td>\n",
              "      <td>59.0</td>\n",
              "      <td>205.0</td>\n",
              "      <td>391.0</td>\n",
              "      <td>448.0</td>\n",
              "      <td>192.0</td>\n",
              "      <td>232.0</td>\n",
              "      <td>0.975000</td>\n",
              "      <td>0.937500</td>\n",
              "      <td>78.0</td>\n",
              "      <td>75.0</td>\n",
              "    </tr>\n",
              "    <tr>\n",
              "      <th>4006</th>\n",
              "      <td>2009</td>\n",
              "      <td>Kevin Durant</td>\n",
              "      <td>3202</td>\n",
              "      <td>kevin-durant</td>\n",
              "      <td>PF</td>\n",
              "      <td>OKC</td>\n",
              "      <td>active</td>\n",
              "      <td>74.0</td>\n",
              "      <td>38.986490</td>\n",
              "      <td>1.810811</td>\n",
              "      <td>...</td>\n",
              "      <td>97.0</td>\n",
              "      <td>230.0</td>\n",
              "      <td>452.0</td>\n",
              "      <td>524.0</td>\n",
              "      <td>205.0</td>\n",
              "      <td>225.0</td>\n",
              "      <td>1.297297</td>\n",
              "      <td>0.716216</td>\n",
              "      <td>96.0</td>\n",
              "      <td>53.0</td>\n",
              "    </tr>\n",
              "    <tr>\n",
              "      <th>4450</th>\n",
              "      <td>2010</td>\n",
              "      <td>Kevin Durant</td>\n",
              "      <td>3202</td>\n",
              "      <td>kevin-durant</td>\n",
              "      <td>PF</td>\n",
              "      <td>OKC</td>\n",
              "      <td>active</td>\n",
              "      <td>82.0</td>\n",
              "      <td>39.500000</td>\n",
              "      <td>2.085366</td>\n",
              "      <td>...</td>\n",
              "      <td>128.0</td>\n",
              "      <td>351.0</td>\n",
              "      <td>756.0</td>\n",
              "      <td>840.0</td>\n",
              "      <td>231.0</td>\n",
              "      <td>271.0</td>\n",
              "      <td>1.365854</td>\n",
              "      <td>1.024390</td>\n",
              "      <td>112.0</td>\n",
              "      <td>84.0</td>\n",
              "    </tr>\n",
              "    <tr>\n",
              "      <th>4892</th>\n",
              "      <td>2011</td>\n",
              "      <td>Kevin Durant</td>\n",
              "      <td>3202</td>\n",
              "      <td>kevin-durant</td>\n",
              "      <td>PF</td>\n",
              "      <td>OKC</td>\n",
              "      <td>active</td>\n",
              "      <td>78.0</td>\n",
              "      <td>38.948720</td>\n",
              "      <td>2.038461</td>\n",
              "      <td>...</td>\n",
              "      <td>145.0</td>\n",
              "      <td>414.0</td>\n",
              "      <td>594.0</td>\n",
              "      <td>675.0</td>\n",
              "      <td>214.0</td>\n",
              "      <td>218.0</td>\n",
              "      <td>1.128205</td>\n",
              "      <td>0.974359</td>\n",
              "      <td>88.0</td>\n",
              "      <td>76.0</td>\n",
              "    </tr>\n",
              "    <tr>\n",
              "      <th>5342</th>\n",
              "      <td>2012</td>\n",
              "      <td>Kevin Durant</td>\n",
              "      <td>3202</td>\n",
              "      <td>kevin-durant</td>\n",
              "      <td>PF</td>\n",
              "      <td>OKC</td>\n",
              "      <td>active</td>\n",
              "      <td>66.0</td>\n",
              "      <td>38.575756</td>\n",
              "      <td>2.015151</td>\n",
              "      <td>...</td>\n",
              "      <td>133.0</td>\n",
              "      <td>344.0</td>\n",
              "      <td>431.0</td>\n",
              "      <td>501.0</td>\n",
              "      <td>231.0</td>\n",
              "      <td>248.0</td>\n",
              "      <td>1.333333</td>\n",
              "      <td>1.166667</td>\n",
              "      <td>88.0</td>\n",
              "      <td>77.0</td>\n",
              "    </tr>\n",
              "  </tbody>\n",
              "</table>\n",
              "<p>5 rows × 44 columns</p>\n",
              "</div>\n",
              "      <button class=\"colab-df-convert\" onclick=\"convertToInteractive('df-51abe327-95ca-4307-b371-5fdaf04c1efb')\"\n",
              "              title=\"Convert this dataframe to an interactive table.\"\n",
              "              style=\"display:none;\">\n",
              "        \n",
              "  <svg xmlns=\"http://www.w3.org/2000/svg\" height=\"24px\"viewBox=\"0 0 24 24\"\n",
              "       width=\"24px\">\n",
              "    <path d=\"M0 0h24v24H0V0z\" fill=\"none\"/>\n",
              "    <path d=\"M18.56 5.44l.94 2.06.94-2.06 2.06-.94-2.06-.94-.94-2.06-.94 2.06-2.06.94zm-11 1L8.5 8.5l.94-2.06 2.06-.94-2.06-.94L8.5 2.5l-.94 2.06-2.06.94zm10 10l.94 2.06.94-2.06 2.06-.94-2.06-.94-.94-2.06-.94 2.06-2.06.94z\"/><path d=\"M17.41 7.96l-1.37-1.37c-.4-.4-.92-.59-1.43-.59-.52 0-1.04.2-1.43.59L10.3 9.45l-7.72 7.72c-.78.78-.78 2.05 0 2.83L4 21.41c.39.39.9.59 1.41.59.51 0 1.02-.2 1.41-.59l7.78-7.78 2.81-2.81c.8-.78.8-2.07 0-2.86zM5.41 20L4 18.59l7.72-7.72 1.47 1.35L5.41 20z\"/>\n",
              "  </svg>\n",
              "      </button>\n",
              "      \n",
              "  <style>\n",
              "    .colab-df-container {\n",
              "      display:flex;\n",
              "      flex-wrap:wrap;\n",
              "      gap: 12px;\n",
              "    }\n",
              "\n",
              "    .colab-df-convert {\n",
              "      background-color: #E8F0FE;\n",
              "      border: none;\n",
              "      border-radius: 50%;\n",
              "      cursor: pointer;\n",
              "      display: none;\n",
              "      fill: #1967D2;\n",
              "      height: 32px;\n",
              "      padding: 0 0 0 0;\n",
              "      width: 32px;\n",
              "    }\n",
              "\n",
              "    .colab-df-convert:hover {\n",
              "      background-color: #E2EBFA;\n",
              "      box-shadow: 0px 1px 2px rgba(60, 64, 67, 0.3), 0px 1px 3px 1px rgba(60, 64, 67, 0.15);\n",
              "      fill: #174EA6;\n",
              "    }\n",
              "\n",
              "    [theme=dark] .colab-df-convert {\n",
              "      background-color: #3B4455;\n",
              "      fill: #D2E3FC;\n",
              "    }\n",
              "\n",
              "    [theme=dark] .colab-df-convert:hover {\n",
              "      background-color: #434B5C;\n",
              "      box-shadow: 0px 1px 3px 1px rgba(0, 0, 0, 0.15);\n",
              "      filter: drop-shadow(0px 1px 2px rgba(0, 0, 0, 0.3));\n",
              "      fill: #FFFFFF;\n",
              "    }\n",
              "  </style>\n",
              "\n",
              "      <script>\n",
              "        const buttonEl =\n",
              "          document.querySelector('#df-51abe327-95ca-4307-b371-5fdaf04c1efb button.colab-df-convert');\n",
              "        buttonEl.style.display =\n",
              "          google.colab.kernel.accessAllowed ? 'block' : 'none';\n",
              "\n",
              "        async function convertToInteractive(key) {\n",
              "          const element = document.querySelector('#df-51abe327-95ca-4307-b371-5fdaf04c1efb');\n",
              "          const dataTable =\n",
              "            await google.colab.kernel.invokeFunction('convertToInteractive',\n",
              "                                                     [key], {});\n",
              "          if (!dataTable) return;\n",
              "\n",
              "          const docLinkHtml = 'Like what you see? Visit the ' +\n",
              "            '<a target=\"_blank\" href=https://colab.research.google.com/notebooks/data_table.ipynb>data table notebook</a>'\n",
              "            + ' to learn more about interactive tables.';\n",
              "          element.innerHTML = '';\n",
              "          dataTable['output_type'] = 'display_data';\n",
              "          await google.colab.output.renderOutput(dataTable, element);\n",
              "          const docLink = document.createElement('div');\n",
              "          docLink.innerHTML = docLinkHtml;\n",
              "          element.appendChild(docLink);\n",
              "        }\n",
              "      </script>\n",
              "    </div>\n",
              "  </div>\n",
              "  "
            ]
          },
          "metadata": {},
          "execution_count": 13
        }
      ]
    },
    {
      "cell_type": "code",
      "source": [
        "df.info()"
      ],
      "metadata": {
        "colab": {
          "base_uri": "https://localhost:8080/"
        },
        "id": "kvwzwWCyyD6g",
        "outputId": "50e4f701-13d4-45d5-c69d-c74d4a79587c"
      },
      "execution_count": null,
      "outputs": [
        {
          "output_type": "stream",
          "name": "stdout",
          "text": [
            "<class 'pandas.core.frame.DataFrame'>\n",
            "RangeIndex: 11121 entries, 0 to 11120\n",
            "Data columns (total 44 columns):\n",
            " #   Column                            Non-Null Count  Dtype  \n",
            "---  ------                            --------------  -----  \n",
            " 0   year                              11121 non-null  int64  \n",
            " 1   name                              11121 non-null  object \n",
            " 2   playerId                          11121 non-null  int64  \n",
            " 3   playerSlug                        11121 non-null  object \n",
            " 4   position                          11111 non-null  object \n",
            " 5   team                              11121 non-null  object \n",
            " 6   status                            11121 non-null  object \n",
            " 7   gamesPlayed                       11121 non-null  float64\n",
            " 8   avgMinutes                        11121 non-null  float64\n",
            " 9   avgFouls                          11121 non-null  float64\n",
            " 10  flagrantFouls                     11121 non-null  float64\n",
            " 11  technicalFouls                    11121 non-null  float64\n",
            " 12  ejections                         11121 non-null  float64\n",
            " 13  doubleDouble                      11121 non-null  float64\n",
            " 14  tripleDouble                      11121 non-null  float64\n",
            " 15  minutes                           11121 non-null  float64\n",
            " 16  rebounds                          11121 non-null  float64\n",
            " 17  fouls                             11121 non-null  float64\n",
            " 18  avgRebounds                       11121 non-null  float64\n",
            " 19  avgPoints                         11121 non-null  float64\n",
            " 20  avgFieldGoalsMade                 11121 non-null  float64\n",
            " 21  avgFieldGoalsAttempted            11121 non-null  float64\n",
            " 22  fieldGoalPct                      11121 non-null  float64\n",
            " 23  avgThreePointFieldGoalsMade       11121 non-null  float64\n",
            " 24  avgThreePointFieldGoalsAttempted  11121 non-null  float64\n",
            " 25  threePointFieldGoalPct            11121 non-null  float64\n",
            " 26  avgFreeThrowsMade                 11121 non-null  float64\n",
            " 27  avgFreeThrowsAttempted            11121 non-null  float64\n",
            " 28  freeThrowPct                      11121 non-null  float64\n",
            " 29  avgAssists                        11121 non-null  float64\n",
            " 30  avgTurnovers                      11121 non-null  float64\n",
            " 31  points                            11121 non-null  float64\n",
            " 32  fieldGoalsMade                    11121 non-null  float64\n",
            " 33  fieldGoalsAttempted               11121 non-null  float64\n",
            " 34  threePointFieldGoalsMade          11121 non-null  float64\n",
            " 35  threePointFieldGoalsAttempted     11121 non-null  float64\n",
            " 36  freeThrowsMade                    11121 non-null  float64\n",
            " 37  freeThrowsAttempted               11121 non-null  float64\n",
            " 38  assists                           11121 non-null  float64\n",
            " 39  turnovers                         11121 non-null  float64\n",
            " 40  avgSteals                         11121 non-null  float64\n",
            " 41  avgBlocks                         11121 non-null  float64\n",
            " 42  steals                            11121 non-null  float64\n",
            " 43  blocks                            11121 non-null  float64\n",
            "dtypes: float64(37), int64(2), object(5)\n",
            "memory usage: 3.7+ MB\n"
          ]
        }
      ]
    },
    {
      "cell_type": "code",
      "source": [
        "players = pd.DataFrame(df[['playerId', 'playerSlug']].value_counts().reset_index())"
      ],
      "metadata": {
        "id": "b_7oyYzWWDSh"
      },
      "execution_count": null,
      "outputs": []
    },
    {
      "cell_type": "code",
      "source": [
        "for _, p in players.head().iterrows():\n",
        "  print(p['playerId'], p['playerSlug'])"
      ],
      "metadata": {
        "colab": {
          "base_uri": "https://localhost:8080/"
        },
        "id": "xHpjeqY1Yu4i",
        "outputId": "d5d2e295-f976-4d46-bdec-d2a4c2b561a8"
      },
      "execution_count": null,
      "outputs": [
        {
          "output_type": "stream",
          "name": "stdout",
          "text": [
            "136 vince-carter\n",
            "609 dirk-nowitzki\n",
            "165 jamal-crawford\n",
            "2184 udonis-haslem\n",
            "1966 lebron-james\n"
          ]
        }
      ]
    },
    {
      "cell_type": "code",
      "source": [
        "players.shape"
      ],
      "metadata": {
        "colab": {
          "base_uri": "https://localhost:8080/"
        },
        "id": "tTHuFavTwt6F",
        "outputId": "93cd7edd-e1ec-4e0a-d76c-12f72451cbff"
      },
      "execution_count": null,
      "outputs": [
        {
          "output_type": "execute_result",
          "data": {
            "text/plain": [
              "(2275, 3)"
            ]
          },
          "metadata": {},
          "execution_count": 43
        }
      ]
    },
    {
      "cell_type": "code",
      "source": [
        "\n",
        "\n",
        "import requests\n",
        "from bs4 import BeautifulSoup\n",
        "import re\n",
        "\n",
        "format_label = lambda x: re.sub(r'[^a-z]', '',x.strip().lower())\n",
        "\n",
        "# HT/WT, birthday, college, birthplace, draft info\n",
        "def crawler_biography(playerId, playerSlug):\n",
        "    url = \"https://www.espn.com/nba/player/bio/_/id/{id}/{slug}\".format(id=playerId, slug=playerSlug)\n",
        "    response = requests.get(url)\n",
        "    html = response.content\n",
        "    soup = BeautifulSoup(html, 'html.parser')\n",
        "    biography_section = soup.find(class_='Card Bio')\n",
        "    labels = ['playerId','playerSlug']\n",
        "    values = [playerId, playerSlug]\n",
        "    items = biography_section.find_all('div', class_='Bio__Item')\n",
        "    for item in items:\n",
        "        label_element = item.find('span', class_='Bio__Label')\n",
        "        value_element = item.find('span', class_='flex-uniform')\n",
        "        label = format_label(label_element.text)\n",
        "        value = value_element.text.strip()\n",
        "        labels.append(label)\n",
        "        values.append(value)\n",
        "\n",
        "    return dict(zip(labels, values))\n",
        "\n"
      ],
      "metadata": {
        "id": "gd1XPjd49vBK"
      },
      "execution_count": null,
      "outputs": []
    },
    {
      "cell_type": "code",
      "source": [
        "plist = []\n",
        "for _, p in players.iterrows():\n",
        "  plist.append(crawler_biography(p['playerId'], p['playerSlug']))"
      ],
      "metadata": {
        "id": "4S5MU2QVpOKm"
      },
      "execution_count": null,
      "outputs": []
    },
    {
      "cell_type": "code",
      "source": [
        "len(plist)"
      ],
      "metadata": {
        "colab": {
          "base_uri": "https://localhost:8080/"
        },
        "id": "AtJBqNSUxI57",
        "outputId": "74dbf428-c42a-4e63-e5a5-88a2d28e1fed"
      },
      "execution_count": null,
      "outputs": [
        {
          "output_type": "execute_result",
          "data": {
            "text/plain": [
              "417"
            ]
          },
          "metadata": {},
          "execution_count": 18
        }
      ]
    },
    {
      "cell_type": "code",
      "source": [
        "plist[1]"
      ],
      "metadata": {
        "colab": {
          "base_uri": "https://localhost:8080/"
        },
        "id": "e2el7P3wyD1z",
        "outputId": "5bbfc03d-42f7-47a6-96c2-29a0b7805721"
      },
      "execution_count": null,
      "outputs": [
        {
          "output_type": "execute_result",
          "data": {
            "text/plain": [
              "{'playerId': 609,\n",
              " 'playerSlug': 'dirk-nowitzki',\n",
              " 'position': 'Forward',\n",
              " 'birthdate': '6/19/1978',\n",
              " 'draftinfo': '1998: Rd 1, Pk 9 (MIL)',\n",
              " 'birthplace': 'West Germany'}"
            ]
          },
          "metadata": {},
          "execution_count": 59
        }
      ]
    },
    {
      "cell_type": "code",
      "source": [
        "import json\n",
        "\n",
        "with open('atletas.json', 'w') as j:\n",
        "  j.write(json.dumps(plist))"
      ],
      "metadata": {
        "id": "7zMTAZoZ2N1R"
      },
      "execution_count": null,
      "outputs": []
    },
    {
      "cell_type": "code",
      "source": [
        "dfb = pd.read_json('atletas.json')"
      ],
      "metadata": {
        "id": "SJn2a_7N5dft"
      },
      "execution_count": null,
      "outputs": []
    },
    {
      "cell_type": "code",
      "source": [
        "dfb.shape"
      ],
      "metadata": {
        "colab": {
          "base_uri": "https://localhost:8080/"
        },
        "id": "tSQ1bh3f5imI",
        "outputId": "f82a8b67-9707-45e5-f62f-caa80027bf8b"
      },
      "execution_count": null,
      "outputs": [
        {
          "output_type": "execute_result",
          "data": {
            "text/plain": [
              "(2275, 11)"
            ]
          },
          "metadata": {},
          "execution_count": 67
        }
      ]
    },
    {
      "cell_type": "code",
      "source": [
        "dfb.to_csv('nba_bios.csv')"
      ],
      "metadata": {
        "id": "VA7zD_l37-0X"
      },
      "execution_count": null,
      "outputs": []
    },
    {
      "cell_type": "code",
      "source": [
        "merged = pd.merge(dfb, df, on=['playerId', 'playerSlug'])"
      ],
      "metadata": {
        "id": "puJ7qDfFJId2"
      },
      "execution_count": null,
      "outputs": []
    },
    {
      "cell_type": "code",
      "source": [
        "merged.info()"
      ],
      "metadata": {
        "id": "K9xrW9s0Jc26"
      },
      "execution_count": null,
      "outputs": []
    },
    {
      "cell_type": "markdown",
      "source": [
        "Join dos Dataframes"
      ],
      "metadata": {
        "id": "6no36zAag_Rx"
      }
    },
    {
      "cell_type": "code",
      "source": [
        "import pandas as pd\n"
      ],
      "metadata": {
        "id": "moe4VwaPhCvK"
      },
      "execution_count": null,
      "outputs": []
    },
    {
      "cell_type": "code",
      "source": [
        "dfb = pd.read_json('atletas.json')"
      ],
      "metadata": {
        "id": "evpr9b03hrBD"
      },
      "execution_count": null,
      "outputs": []
    },
    {
      "cell_type": "code",
      "source": [
        "dfa = pd.read_csv('nba_athletes.csv')"
      ],
      "metadata": {
        "id": "wUJy70c-huIC"
      },
      "execution_count": null,
      "outputs": []
    },
    {
      "cell_type": "code",
      "source": [
        "dfb.drop(columns=['status'], inplace=True)"
      ],
      "metadata": {
        "id": "QEYcg5sqhzld"
      },
      "execution_count": null,
      "outputs": []
    },
    {
      "cell_type": "code",
      "source": [
        "dfa.rename(columns={\"team\": \"teamId\", \"position\": \"positionId\"}, inplace=True)"
      ],
      "metadata": {
        "id": "_g12EHWqiEeQ"
      },
      "execution_count": null,
      "outputs": []
    },
    {
      "cell_type": "code",
      "source": [
        "dfa.columns"
      ],
      "metadata": {
        "colab": {
          "base_uri": "https://localhost:8080/"
        },
        "id": "7TvilT7bit5X",
        "outputId": "7dd57454-d0a6-40e0-aa35-948fb7ba6c88"
      },
      "execution_count": null,
      "outputs": [
        {
          "output_type": "execute_result",
          "data": {
            "text/plain": [
              "Index(['year', 'name', 'playerId', 'playerSlug', 'positionId', 'teamId',\n",
              "       'status', 'gamesPlayed', 'avgMinutes', 'avgFouls', 'flagrantFouls',\n",
              "       'technicalFouls', 'ejections', 'doubleDouble', 'tripleDouble',\n",
              "       'minutes', 'rebounds', 'fouls', 'avgRebounds', 'avgPoints',\n",
              "       'avgFieldGoalsMade', 'avgFieldGoalsAttempted', 'fieldGoalPct',\n",
              "       'avgThreePointFieldGoalsMade', 'avgThreePointFieldGoalsAttempted',\n",
              "       'threePointFieldGoalPct', 'avgFreeThrowsMade', 'avgFreeThrowsAttempted',\n",
              "       'freeThrowPct', 'avgAssists', 'avgTurnovers', 'points',\n",
              "       'fieldGoalsMade', 'fieldGoalsAttempted', 'threePointFieldGoalsMade',\n",
              "       'threePointFieldGoalsAttempted', 'freeThrowsMade',\n",
              "       'freeThrowsAttempted', 'assists', 'turnovers', 'avgSteals', 'avgBlocks',\n",
              "       'steals', 'blocks'],\n",
              "      dtype='object')"
            ]
          },
          "metadata": {},
          "execution_count": 87
        }
      ]
    },
    {
      "cell_type": "code",
      "source": [
        "merged = pd.merge(dfa, dfb, on=['playerId', 'playerSlug'])"
      ],
      "metadata": {
        "id": "-oDZfT0AiECV"
      },
      "execution_count": null,
      "outputs": []
    },
    {
      "cell_type": "code",
      "source": [
        "merged.info()"
      ],
      "metadata": {
        "colab": {
          "base_uri": "https://localhost:8080/"
        },
        "id": "ZUdRyvQBjL-A",
        "outputId": "eec1a186-634f-4cfb-b87e-c1224e42197a"
      },
      "execution_count": null,
      "outputs": [
        {
          "output_type": "stream",
          "name": "stdout",
          "text": [
            "<class 'pandas.core.frame.DataFrame'>\n",
            "Int64Index: 11121 entries, 0 to 11120\n",
            "Data columns (total 52 columns):\n",
            " #   Column                            Non-Null Count  Dtype  \n",
            "---  ------                            --------------  -----  \n",
            " 0   year                              11121 non-null  int64  \n",
            " 1   name                              11121 non-null  object \n",
            " 2   playerId                          11121 non-null  int64  \n",
            " 3   playerSlug                        11121 non-null  object \n",
            " 4   positionId                        11111 non-null  object \n",
            " 5   teamId                            11121 non-null  object \n",
            " 6   status                            11121 non-null  object \n",
            " 7   gamesPlayed                       11121 non-null  float64\n",
            " 8   avgMinutes                        11121 non-null  float64\n",
            " 9   avgFouls                          11121 non-null  float64\n",
            " 10  flagrantFouls                     11121 non-null  float64\n",
            " 11  technicalFouls                    11121 non-null  float64\n",
            " 12  ejections                         11121 non-null  float64\n",
            " 13  doubleDouble                      11121 non-null  float64\n",
            " 14  tripleDouble                      11121 non-null  float64\n",
            " 15  minutes                           11121 non-null  float64\n",
            " 16  rebounds                          11121 non-null  float64\n",
            " 17  fouls                             11121 non-null  float64\n",
            " 18  avgRebounds                       11121 non-null  float64\n",
            " 19  avgPoints                         11121 non-null  float64\n",
            " 20  avgFieldGoalsMade                 11121 non-null  float64\n",
            " 21  avgFieldGoalsAttempted            11121 non-null  float64\n",
            " 22  fieldGoalPct                      11121 non-null  float64\n",
            " 23  avgThreePointFieldGoalsMade       11121 non-null  float64\n",
            " 24  avgThreePointFieldGoalsAttempted  11121 non-null  float64\n",
            " 25  threePointFieldGoalPct            11121 non-null  float64\n",
            " 26  avgFreeThrowsMade                 11121 non-null  float64\n",
            " 27  avgFreeThrowsAttempted            11121 non-null  float64\n",
            " 28  freeThrowPct                      11121 non-null  float64\n",
            " 29  avgAssists                        11121 non-null  float64\n",
            " 30  avgTurnovers                      11121 non-null  float64\n",
            " 31  points                            11121 non-null  float64\n",
            " 32  fieldGoalsMade                    11121 non-null  float64\n",
            " 33  fieldGoalsAttempted               11121 non-null  float64\n",
            " 34  threePointFieldGoalsMade          11121 non-null  float64\n",
            " 35  threePointFieldGoalsAttempted     11121 non-null  float64\n",
            " 36  freeThrowsMade                    11121 non-null  float64\n",
            " 37  freeThrowsAttempted               11121 non-null  float64\n",
            " 38  assists                           11121 non-null  float64\n",
            " 39  turnovers                         11121 non-null  float64\n",
            " 40  avgSteals                         11121 non-null  float64\n",
            " 41  avgBlocks                         11121 non-null  float64\n",
            " 42  steals                            11121 non-null  float64\n",
            " 43  blocks                            11121 non-null  float64\n",
            " 44  position                          11121 non-null  object \n",
            " 45  birthdate                         11121 non-null  object \n",
            " 46  college                           9371 non-null   object \n",
            " 47  draftinfo                         9005 non-null   object \n",
            " 48  birthplace                        10827 non-null  object \n",
            " 49  team                              2816 non-null   object \n",
            " 50  htwt                              2816 non-null   object \n",
            " 51  experience                        2816 non-null   object \n",
            "dtypes: float64(37), int64(2), object(13)\n",
            "memory usage: 4.5+ MB\n"
          ]
        }
      ]
    },
    {
      "cell_type": "code",
      "source": [
        "dfb.head()"
      ],
      "metadata": {
        "colab": {
          "base_uri": "https://localhost:8080/",
          "height": 354
        },
        "id": "ycbgc2CXnL1Y",
        "outputId": "672d2eb1-e0ff-4752-9dbd-e66ea0e4905c"
      },
      "execution_count": null,
      "outputs": [
        {
          "output_type": "execute_result",
          "data": {
            "text/plain": [
              "   playerId      playerSlug       position        birthdate         college  \\\n",
              "0       136    vince-carter          Guard        1/26/1977  North Carolina   \n",
              "1       609   dirk-nowitzki        Forward        6/19/1978             NaN   \n",
              "2       165  jamal-crawford          Guard        3/20/1980        Michigan   \n",
              "3      2184   udonis-haslem  Power Forward    6/9/1980 (43)         Florida   \n",
              "4      1966    lebron-james  Small Forward  12/30/1984 (38)             NaN   \n",
              "\n",
              "                draftinfo         birthplace                team  \\\n",
              "0   1998: Rd 1, Pk 5 (GS)  Daytona Beach, FL                 NaN   \n",
              "1  1998: Rd 1, Pk 9 (MIL)       West Germany                 NaN   \n",
              "2  2000: Rd 1, Pk 8 (CLE)        Seattle, WA                 NaN   \n",
              "3                     NaN          Miami, FL          Miami Heat   \n",
              "4  2003: Rd 1, Pk 1 (CLE)          Akron, OH  Los Angeles Lakers   \n",
              "\n",
              "             htwt   experience  \n",
              "0             NaN          NaN  \n",
              "1             NaN          NaN  \n",
              "2             NaN          NaN  \n",
              "3  6' 8\", 235 lbs  19th Season  \n",
              "4  6' 9\", 250 lbs  19th Season  "
            ],
            "text/html": [
              "\n",
              "  <div id=\"df-ccc9bb8c-6c25-477c-846e-4065b68590b9\">\n",
              "    <div class=\"colab-df-container\">\n",
              "      <div>\n",
              "<style scoped>\n",
              "    .dataframe tbody tr th:only-of-type {\n",
              "        vertical-align: middle;\n",
              "    }\n",
              "\n",
              "    .dataframe tbody tr th {\n",
              "        vertical-align: top;\n",
              "    }\n",
              "\n",
              "    .dataframe thead th {\n",
              "        text-align: right;\n",
              "    }\n",
              "</style>\n",
              "<table border=\"1\" class=\"dataframe\">\n",
              "  <thead>\n",
              "    <tr style=\"text-align: right;\">\n",
              "      <th></th>\n",
              "      <th>playerId</th>\n",
              "      <th>playerSlug</th>\n",
              "      <th>position</th>\n",
              "      <th>birthdate</th>\n",
              "      <th>college</th>\n",
              "      <th>draftinfo</th>\n",
              "      <th>birthplace</th>\n",
              "      <th>team</th>\n",
              "      <th>htwt</th>\n",
              "      <th>experience</th>\n",
              "    </tr>\n",
              "  </thead>\n",
              "  <tbody>\n",
              "    <tr>\n",
              "      <th>0</th>\n",
              "      <td>136</td>\n",
              "      <td>vince-carter</td>\n",
              "      <td>Guard</td>\n",
              "      <td>1/26/1977</td>\n",
              "      <td>North Carolina</td>\n",
              "      <td>1998: Rd 1, Pk 5 (GS)</td>\n",
              "      <td>Daytona Beach, FL</td>\n",
              "      <td>NaN</td>\n",
              "      <td>NaN</td>\n",
              "      <td>NaN</td>\n",
              "    </tr>\n",
              "    <tr>\n",
              "      <th>1</th>\n",
              "      <td>609</td>\n",
              "      <td>dirk-nowitzki</td>\n",
              "      <td>Forward</td>\n",
              "      <td>6/19/1978</td>\n",
              "      <td>NaN</td>\n",
              "      <td>1998: Rd 1, Pk 9 (MIL)</td>\n",
              "      <td>West Germany</td>\n",
              "      <td>NaN</td>\n",
              "      <td>NaN</td>\n",
              "      <td>NaN</td>\n",
              "    </tr>\n",
              "    <tr>\n",
              "      <th>2</th>\n",
              "      <td>165</td>\n",
              "      <td>jamal-crawford</td>\n",
              "      <td>Guard</td>\n",
              "      <td>3/20/1980</td>\n",
              "      <td>Michigan</td>\n",
              "      <td>2000: Rd 1, Pk 8 (CLE)</td>\n",
              "      <td>Seattle, WA</td>\n",
              "      <td>NaN</td>\n",
              "      <td>NaN</td>\n",
              "      <td>NaN</td>\n",
              "    </tr>\n",
              "    <tr>\n",
              "      <th>3</th>\n",
              "      <td>2184</td>\n",
              "      <td>udonis-haslem</td>\n",
              "      <td>Power Forward</td>\n",
              "      <td>6/9/1980 (43)</td>\n",
              "      <td>Florida</td>\n",
              "      <td>NaN</td>\n",
              "      <td>Miami, FL</td>\n",
              "      <td>Miami Heat</td>\n",
              "      <td>6' 8\", 235 lbs</td>\n",
              "      <td>19th Season</td>\n",
              "    </tr>\n",
              "    <tr>\n",
              "      <th>4</th>\n",
              "      <td>1966</td>\n",
              "      <td>lebron-james</td>\n",
              "      <td>Small Forward</td>\n",
              "      <td>12/30/1984 (38)</td>\n",
              "      <td>NaN</td>\n",
              "      <td>2003: Rd 1, Pk 1 (CLE)</td>\n",
              "      <td>Akron, OH</td>\n",
              "      <td>Los Angeles Lakers</td>\n",
              "      <td>6' 9\", 250 lbs</td>\n",
              "      <td>19th Season</td>\n",
              "    </tr>\n",
              "  </tbody>\n",
              "</table>\n",
              "</div>\n",
              "      <button class=\"colab-df-convert\" onclick=\"convertToInteractive('df-ccc9bb8c-6c25-477c-846e-4065b68590b9')\"\n",
              "              title=\"Convert this dataframe to an interactive table.\"\n",
              "              style=\"display:none;\">\n",
              "        \n",
              "  <svg xmlns=\"http://www.w3.org/2000/svg\" height=\"24px\"viewBox=\"0 0 24 24\"\n",
              "       width=\"24px\">\n",
              "    <path d=\"M0 0h24v24H0V0z\" fill=\"none\"/>\n",
              "    <path d=\"M18.56 5.44l.94 2.06.94-2.06 2.06-.94-2.06-.94-.94-2.06-.94 2.06-2.06.94zm-11 1L8.5 8.5l.94-2.06 2.06-.94-2.06-.94L8.5 2.5l-.94 2.06-2.06.94zm10 10l.94 2.06.94-2.06 2.06-.94-2.06-.94-.94-2.06-.94 2.06-2.06.94z\"/><path d=\"M17.41 7.96l-1.37-1.37c-.4-.4-.92-.59-1.43-.59-.52 0-1.04.2-1.43.59L10.3 9.45l-7.72 7.72c-.78.78-.78 2.05 0 2.83L4 21.41c.39.39.9.59 1.41.59.51 0 1.02-.2 1.41-.59l7.78-7.78 2.81-2.81c.8-.78.8-2.07 0-2.86zM5.41 20L4 18.59l7.72-7.72 1.47 1.35L5.41 20z\"/>\n",
              "  </svg>\n",
              "      </button>\n",
              "      \n",
              "  <style>\n",
              "    .colab-df-container {\n",
              "      display:flex;\n",
              "      flex-wrap:wrap;\n",
              "      gap: 12px;\n",
              "    }\n",
              "\n",
              "    .colab-df-convert {\n",
              "      background-color: #E8F0FE;\n",
              "      border: none;\n",
              "      border-radius: 50%;\n",
              "      cursor: pointer;\n",
              "      display: none;\n",
              "      fill: #1967D2;\n",
              "      height: 32px;\n",
              "      padding: 0 0 0 0;\n",
              "      width: 32px;\n",
              "    }\n",
              "\n",
              "    .colab-df-convert:hover {\n",
              "      background-color: #E2EBFA;\n",
              "      box-shadow: 0px 1px 2px rgba(60, 64, 67, 0.3), 0px 1px 3px 1px rgba(60, 64, 67, 0.15);\n",
              "      fill: #174EA6;\n",
              "    }\n",
              "\n",
              "    [theme=dark] .colab-df-convert {\n",
              "      background-color: #3B4455;\n",
              "      fill: #D2E3FC;\n",
              "    }\n",
              "\n",
              "    [theme=dark] .colab-df-convert:hover {\n",
              "      background-color: #434B5C;\n",
              "      box-shadow: 0px 1px 3px 1px rgba(0, 0, 0, 0.15);\n",
              "      filter: drop-shadow(0px 1px 2px rgba(0, 0, 0, 0.3));\n",
              "      fill: #FFFFFF;\n",
              "    }\n",
              "  </style>\n",
              "\n",
              "      <script>\n",
              "        const buttonEl =\n",
              "          document.querySelector('#df-ccc9bb8c-6c25-477c-846e-4065b68590b9 button.colab-df-convert');\n",
              "        buttonEl.style.display =\n",
              "          google.colab.kernel.accessAllowed ? 'block' : 'none';\n",
              "\n",
              "        async function convertToInteractive(key) {\n",
              "          const element = document.querySelector('#df-ccc9bb8c-6c25-477c-846e-4065b68590b9');\n",
              "          const dataTable =\n",
              "            await google.colab.kernel.invokeFunction('convertToInteractive',\n",
              "                                                     [key], {});\n",
              "          if (!dataTable) return;\n",
              "\n",
              "          const docLinkHtml = 'Like what you see? Visit the ' +\n",
              "            '<a target=\"_blank\" href=https://colab.research.google.com/notebooks/data_table.ipynb>data table notebook</a>'\n",
              "            + ' to learn more about interactive tables.';\n",
              "          element.innerHTML = '';\n",
              "          dataTable['output_type'] = 'display_data';\n",
              "          await google.colab.output.renderOutput(dataTable, element);\n",
              "          const docLink = document.createElement('div');\n",
              "          docLink.innerHTML = docLinkHtml;\n",
              "          element.appendChild(docLink);\n",
              "        }\n",
              "      </script>\n",
              "    </div>\n",
              "  </div>\n",
              "  "
            ]
          },
          "metadata": {},
          "execution_count": 95
        }
      ]
    },
    {
      "cell_type": "code",
      "source": [
        "dfs = pd.read_csv('nba_salaries.csv')"
      ],
      "metadata": {
        "id": "UQmf8N6GqMX4"
      },
      "execution_count": null,
      "outputs": []
    },
    {
      "cell_type": "code",
      "source": [
        "dfs.drop(columns=['name','position','team'], inplace=True)"
      ],
      "metadata": {
        "id": "bTAOxxO2qRBA"
      },
      "execution_count": null,
      "outputs": []
    },
    {
      "cell_type": "code",
      "source": [
        "dfs.rename(columns={\"ranking\": \"rankingSalary\"}, inplace=True)"
      ],
      "metadata": {
        "id": "KXimcGL9yBSj"
      },
      "execution_count": null,
      "outputs": []
    },
    {
      "cell_type": "code",
      "source": [
        "dfs"
      ],
      "metadata": {
        "colab": {
          "base_uri": "https://localhost:8080/",
          "height": 424
        },
        "id": "7E863L9HyYLs",
        "outputId": "75226f0d-65c8-469f-ebb1-53b9294118bb"
      },
      "execution_count": null,
      "outputs": [
        {
          "output_type": "execute_result",
          "data": {
            "text/plain": [
              "       year  rankingSalary  playerId        playerSlug       salary\n",
              "0      1999              1       614  shaquille-o'neal  $17,142,000\n",
              "1      1999              2       261     kevin-garnett  $16,806,000\n",
              "2      1999              3       580   alonzo-mourning  $15,004,000\n",
              "3      1999              4       351      juwan-howard  $15,000,000\n",
              "4      1999              5       663    scottie-pippen  $14,795,000\n",
              "...     ...            ...       ...               ...          ...\n",
              "11308  2023            332   4687718       josh-minott   $1,719,864\n",
              "11309  2023            333   4432582      max-christie   $1,719,864\n",
              "11310  2023            334   4591725      ryan-rollins   $1,719,864\n",
              "11311  2023            335   4868423       jaden-hardy   $1,719,864\n",
              "11312  2023            336   4397179     tyrese-martin   $1,719,864\n",
              "\n",
              "[11313 rows x 5 columns]"
            ],
            "text/html": [
              "\n",
              "  <div id=\"df-9dc9df86-902b-44fb-90cb-f8d6f1d1202e\">\n",
              "    <div class=\"colab-df-container\">\n",
              "      <div>\n",
              "<style scoped>\n",
              "    .dataframe tbody tr th:only-of-type {\n",
              "        vertical-align: middle;\n",
              "    }\n",
              "\n",
              "    .dataframe tbody tr th {\n",
              "        vertical-align: top;\n",
              "    }\n",
              "\n",
              "    .dataframe thead th {\n",
              "        text-align: right;\n",
              "    }\n",
              "</style>\n",
              "<table border=\"1\" class=\"dataframe\">\n",
              "  <thead>\n",
              "    <tr style=\"text-align: right;\">\n",
              "      <th></th>\n",
              "      <th>year</th>\n",
              "      <th>rankingSalary</th>\n",
              "      <th>playerId</th>\n",
              "      <th>playerSlug</th>\n",
              "      <th>salary</th>\n",
              "    </tr>\n",
              "  </thead>\n",
              "  <tbody>\n",
              "    <tr>\n",
              "      <th>0</th>\n",
              "      <td>1999</td>\n",
              "      <td>1</td>\n",
              "      <td>614</td>\n",
              "      <td>shaquille-o'neal</td>\n",
              "      <td>$17,142,000</td>\n",
              "    </tr>\n",
              "    <tr>\n",
              "      <th>1</th>\n",
              "      <td>1999</td>\n",
              "      <td>2</td>\n",
              "      <td>261</td>\n",
              "      <td>kevin-garnett</td>\n",
              "      <td>$16,806,000</td>\n",
              "    </tr>\n",
              "    <tr>\n",
              "      <th>2</th>\n",
              "      <td>1999</td>\n",
              "      <td>3</td>\n",
              "      <td>580</td>\n",
              "      <td>alonzo-mourning</td>\n",
              "      <td>$15,004,000</td>\n",
              "    </tr>\n",
              "    <tr>\n",
              "      <th>3</th>\n",
              "      <td>1999</td>\n",
              "      <td>4</td>\n",
              "      <td>351</td>\n",
              "      <td>juwan-howard</td>\n",
              "      <td>$15,000,000</td>\n",
              "    </tr>\n",
              "    <tr>\n",
              "      <th>4</th>\n",
              "      <td>1999</td>\n",
              "      <td>5</td>\n",
              "      <td>663</td>\n",
              "      <td>scottie-pippen</td>\n",
              "      <td>$14,795,000</td>\n",
              "    </tr>\n",
              "    <tr>\n",
              "      <th>...</th>\n",
              "      <td>...</td>\n",
              "      <td>...</td>\n",
              "      <td>...</td>\n",
              "      <td>...</td>\n",
              "      <td>...</td>\n",
              "    </tr>\n",
              "    <tr>\n",
              "      <th>11308</th>\n",
              "      <td>2023</td>\n",
              "      <td>332</td>\n",
              "      <td>4687718</td>\n",
              "      <td>josh-minott</td>\n",
              "      <td>$1,719,864</td>\n",
              "    </tr>\n",
              "    <tr>\n",
              "      <th>11309</th>\n",
              "      <td>2023</td>\n",
              "      <td>333</td>\n",
              "      <td>4432582</td>\n",
              "      <td>max-christie</td>\n",
              "      <td>$1,719,864</td>\n",
              "    </tr>\n",
              "    <tr>\n",
              "      <th>11310</th>\n",
              "      <td>2023</td>\n",
              "      <td>334</td>\n",
              "      <td>4591725</td>\n",
              "      <td>ryan-rollins</td>\n",
              "      <td>$1,719,864</td>\n",
              "    </tr>\n",
              "    <tr>\n",
              "      <th>11311</th>\n",
              "      <td>2023</td>\n",
              "      <td>335</td>\n",
              "      <td>4868423</td>\n",
              "      <td>jaden-hardy</td>\n",
              "      <td>$1,719,864</td>\n",
              "    </tr>\n",
              "    <tr>\n",
              "      <th>11312</th>\n",
              "      <td>2023</td>\n",
              "      <td>336</td>\n",
              "      <td>4397179</td>\n",
              "      <td>tyrese-martin</td>\n",
              "      <td>$1,719,864</td>\n",
              "    </tr>\n",
              "  </tbody>\n",
              "</table>\n",
              "<p>11313 rows × 5 columns</p>\n",
              "</div>\n",
              "      <button class=\"colab-df-convert\" onclick=\"convertToInteractive('df-9dc9df86-902b-44fb-90cb-f8d6f1d1202e')\"\n",
              "              title=\"Convert this dataframe to an interactive table.\"\n",
              "              style=\"display:none;\">\n",
              "        \n",
              "  <svg xmlns=\"http://www.w3.org/2000/svg\" height=\"24px\"viewBox=\"0 0 24 24\"\n",
              "       width=\"24px\">\n",
              "    <path d=\"M0 0h24v24H0V0z\" fill=\"none\"/>\n",
              "    <path d=\"M18.56 5.44l.94 2.06.94-2.06 2.06-.94-2.06-.94-.94-2.06-.94 2.06-2.06.94zm-11 1L8.5 8.5l.94-2.06 2.06-.94-2.06-.94L8.5 2.5l-.94 2.06-2.06.94zm10 10l.94 2.06.94-2.06 2.06-.94-2.06-.94-.94-2.06-.94 2.06-2.06.94z\"/><path d=\"M17.41 7.96l-1.37-1.37c-.4-.4-.92-.59-1.43-.59-.52 0-1.04.2-1.43.59L10.3 9.45l-7.72 7.72c-.78.78-.78 2.05 0 2.83L4 21.41c.39.39.9.59 1.41.59.51 0 1.02-.2 1.41-.59l7.78-7.78 2.81-2.81c.8-.78.8-2.07 0-2.86zM5.41 20L4 18.59l7.72-7.72 1.47 1.35L5.41 20z\"/>\n",
              "  </svg>\n",
              "      </button>\n",
              "      \n",
              "  <style>\n",
              "    .colab-df-container {\n",
              "      display:flex;\n",
              "      flex-wrap:wrap;\n",
              "      gap: 12px;\n",
              "    }\n",
              "\n",
              "    .colab-df-convert {\n",
              "      background-color: #E8F0FE;\n",
              "      border: none;\n",
              "      border-radius: 50%;\n",
              "      cursor: pointer;\n",
              "      display: none;\n",
              "      fill: #1967D2;\n",
              "      height: 32px;\n",
              "      padding: 0 0 0 0;\n",
              "      width: 32px;\n",
              "    }\n",
              "\n",
              "    .colab-df-convert:hover {\n",
              "      background-color: #E2EBFA;\n",
              "      box-shadow: 0px 1px 2px rgba(60, 64, 67, 0.3), 0px 1px 3px 1px rgba(60, 64, 67, 0.15);\n",
              "      fill: #174EA6;\n",
              "    }\n",
              "\n",
              "    [theme=dark] .colab-df-convert {\n",
              "      background-color: #3B4455;\n",
              "      fill: #D2E3FC;\n",
              "    }\n",
              "\n",
              "    [theme=dark] .colab-df-convert:hover {\n",
              "      background-color: #434B5C;\n",
              "      box-shadow: 0px 1px 3px 1px rgba(0, 0, 0, 0.15);\n",
              "      filter: drop-shadow(0px 1px 2px rgba(0, 0, 0, 0.3));\n",
              "      fill: #FFFFFF;\n",
              "    }\n",
              "  </style>\n",
              "\n",
              "      <script>\n",
              "        const buttonEl =\n",
              "          document.querySelector('#df-9dc9df86-902b-44fb-90cb-f8d6f1d1202e button.colab-df-convert');\n",
              "        buttonEl.style.display =\n",
              "          google.colab.kernel.accessAllowed ? 'block' : 'none';\n",
              "\n",
              "        async function convertToInteractive(key) {\n",
              "          const element = document.querySelector('#df-9dc9df86-902b-44fb-90cb-f8d6f1d1202e');\n",
              "          const dataTable =\n",
              "            await google.colab.kernel.invokeFunction('convertToInteractive',\n",
              "                                                     [key], {});\n",
              "          if (!dataTable) return;\n",
              "\n",
              "          const docLinkHtml = 'Like what you see? Visit the ' +\n",
              "            '<a target=\"_blank\" href=https://colab.research.google.com/notebooks/data_table.ipynb>data table notebook</a>'\n",
              "            + ' to learn more about interactive tables.';\n",
              "          element.innerHTML = '';\n",
              "          dataTable['output_type'] = 'display_data';\n",
              "          await google.colab.output.renderOutput(dataTable, element);\n",
              "          const docLink = document.createElement('div');\n",
              "          docLink.innerHTML = docLinkHtml;\n",
              "          element.appendChild(docLink);\n",
              "        }\n",
              "      </script>\n",
              "    </div>\n",
              "  </div>\n",
              "  "
            ]
          },
          "metadata": {},
          "execution_count": 110
        }
      ]
    },
    {
      "cell_type": "code",
      "source": [
        "fullDataSet =  pd.merge(merged, dfs, on=['year', 'playerId', 'playerSlug'])"
      ],
      "metadata": {
        "id": "awFPW3YkyNkX"
      },
      "execution_count": null,
      "outputs": []
    },
    {
      "cell_type": "code",
      "source": [
        "fullDataSet.to_csv('nba_infos.csv', index=False)"
      ],
      "metadata": {
        "id": "N6WtS5tJyc7u"
      },
      "execution_count": null,
      "outputs": []
    }
  ]
}