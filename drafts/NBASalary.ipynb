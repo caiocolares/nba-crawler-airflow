{
  "nbformat": 4,
  "nbformat_minor": 0,
  "metadata": {
    "colab": {
      "provenance": []
    },
    "kernelspec": {
      "name": "python3",
      "display_name": "Python 3"
    },
    "language_info": {
      "name": "python"
    }
  },
  "cells": [
    {
      "cell_type": "code",
      "execution_count": null,
      "metadata": {
        "id": "sKKhaf_FLwfo"
      },
      "outputs": [],
      "source": [
        "import requests\n",
        "from bs4 import BeautifulSoup\n",
        "import csv"
      ]
    },
    {
      "cell_type": "code",
      "source": [
        "def request_page(url, year):\n",
        "    conteudo = []\n",
        "\n",
        "    page = requests.get(url)\n",
        "    soup = BeautifulSoup(page.text, 'lxml')\n",
        "    table = soup.find('table', {\"class\": \"tablehead\"})\n",
        "\n",
        "    for tr in table.find_all('tr'):\n",
        "        if 'RK' not in tr.text:\n",
        "          linha = [year]\n",
        "          for i, td in enumerate(tr.find_all('td')):\n",
        "            if i == 1:\n",
        "              a = td.find('a', href=True)\n",
        "              detail = a['href'].split('/')\n",
        "              playerId = detail[-2]\n",
        "              playerSlug = detail[-1]\n",
        "              linha.append(playerId)\n",
        "              linha.append(playerSlug)\n",
        "              linha.extend([ x.strip() for x in td.text.split(',')])\n",
        "            else:\n",
        "              linha.append(td.text)\n",
        "          conteudo.append(linha)\n",
        "    return conteudo\n",
        "\n",
        "\n",
        "burl = url = 'https://www.espn.com/nba/salaries/_/year/{year}/page/{page}/seasontype/4'\n"
      ],
      "metadata": {
        "id": "NvasRFhjL7gh"
      },
      "execution_count": null,
      "outputs": []
    },
    {
      "cell_type": "code",
      "source": [
        "\n",
        "page = 1\n",
        "year=1999\n",
        "with open('./nba_salaries.csv', 'w') as  f:\n",
        "    csv.delimiter = ';'\n",
        "    writer = csv.writer(f)\n",
        "    header = ['year', 'playerId', 'playerSlug', 'ranking','name', 'position', 'team', 'salary']\n",
        "    writer.writerow(header)\n",
        "    while year <= 2023:\n",
        "\n",
        "        content = request_page(burl.format(year=year,page=page), year)\n",
        "\n",
        "        while content:\n",
        "          writer.writerows(content)\n",
        "          page += 1\n",
        "          content = request_page(burl.format(year=year,page=page), year)\n",
        "\n",
        "        year += 1\n",
        "        page = 1\n",
        "\n"
      ],
      "metadata": {
        "id": "4r4x_lU-L_eq"
      },
      "execution_count": null,
      "outputs": []
    }
  ]
}