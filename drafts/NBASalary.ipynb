{
 "cells": [
  {
   "cell_type": "code",
   "execution_count": null,
   "metadata": {
    "id": "sKKhaf_FLwfo"
   },
   "outputs": [],
   "source": [
    "import requests\n",
    "from bs4 import BeautifulSoup\n",
    "import csv"
   ]
  },
  {
   "cell_type": "code",
   "execution_count": null,
   "metadata": {
    "id": "NvasRFhjL7gh"
   },
   "outputs": [],
   "source": [
    "def request_page(url, year):\n",
    "    conteudo = []\n",
    "\n",
    "    page = requests.get(url)\n",
    "    soup = BeautifulSoup(page.text, 'lxml')\n",
    "    table = soup.find('table', {\"class\": \"tablehead\"})\n",
    "\n",
    "    for tr in table.find_all('tr'):\n",
    "        if 'RK' not in tr.text:\n",
    "          linha = [year]\n",
    "          for i, td in enumerate(tr.find_all('td')):\n",
    "            if i == 1:\n",
    "              a = td.find('a', href=True)\n",
    "              detail = a['href'].split('/')\n",
    "              playerId = detail[-2]\n",
    "              playerSlug = detail[-1]\n",
    "              linha.append(playerId)\n",
    "              linha.append(playerSlug)\n",
    "              linha.extend([ x.strip() for x in td.text.split(',')])\n",
    "            else:\n",
    "              linha.append(td.text)\n",
    "          conteudo.append(linha)\n",
    "    return conteudo\n",
    "\n",
    "\n",
    "burl = url = 'https://www.espn.com/nba/salaries/_/year/{year}/page/{page}/seasontype/4'\n"
   ]
  },
  {
   "cell_type": "code",
   "execution_count": null,
   "metadata": {
    "id": "4r4x_lU-L_eq"
   },
   "outputs": [],
   "source": [
    "\n",
    "page = 1\n",
    "year=1999\n",
    "with open('./nba_salaries.csv', 'w') as  f:\n",
    "    csv.delimiter = ';'\n",
    "    writer = csv.writer(f)\n",
    "    header = ['year', 'ranking', 'playerId', 'playerSlug','name', 'position', 'team', 'salary']\n",
    "    writer.writerow(header)\n",
    "    while year <= 2023:\n",
    "\n",
    "        content = request_page(burl.format(year=year,page=page), year)\n",
    "\n",
    "        while content:\n",
    "          writer.writerows(content)\n",
    "          page += 1\n",
    "          content = request_page(burl.format(year=year,page=page), year)\n",
    "\n",
    "        year += 1\n",
    "        page = 1\n",
    "\n"
   ]
  }
 ],
 "metadata": {
  "colab": {
   "provenance": []
  },
  "kernelspec": {
   "display_name": "Python 3 (ipykernel)",
   "language": "python",
   "name": "python3"
  },
  "language_info": {
   "codemirror_mode": {
    "name": "ipython",
    "version": 3
   },
   "file_extension": ".py",
   "mimetype": "text/x-python",
   "name": "python",
   "nbconvert_exporter": "python",
   "pygments_lexer": "ipython3",
   "version": "3.10.6"
  }
 },
 "nbformat": 4,
 "nbformat_minor": 1
}
